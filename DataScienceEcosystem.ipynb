{
 "cells": [
  {
   "cell_type": "markdown",
   "id": "bc3e6395-4052-46b5-b9ca-c523505a06e7",
   "metadata": {},
   "source": [
    "# Data Science Tools and Ecosystem"
   ]
  },
  {
   "cell_type": "markdown",
   "id": "427eff45-fdc1-468b-97c6-655b32931c77",
   "metadata": {},
   "source": [
    "## In this notebook, Data Science Tools and Ecosystem are summarized."
   ]
  },
  {
   "cell_type": "markdown",
   "id": "5181d9fc-31f7-4b7f-acb1-e5e2af1cc88d",
   "metadata": {},
   "source": [
    "## ***Objectives:***\n",
    " 1. List popular languages for Data Science\n",
    " 2. Identify commonly used libraries for Data Science\n",
    " 3. Describe common tools used in Data Science\n"
   ]
  },
  {
   "cell_type": "markdown",
   "id": "c64f7dd4-cd1d-4042-ab38-36d867ec034b",
   "metadata": {},
   "source": [
    "## Some of the popular languages that Data Scientists use are:\n",
    "    1. Python\n",
    "    2. R\n",
    "    3. SQL\n",
    "    4. Scala\n",
    "    5. Julia\n",
    "    6. SAS\n",
    "    7. Matlab"
   ]
  },
  {
   "cell_type": "markdown",
   "id": "db024685-5ba4-4b42-bdf2-a794e46c0136",
   "metadata": {},
   "source": [
    "## Some of the commonly used libraries used by Data Scientists include:\n",
    "    1. Pandas\n",
    "    2. Numpy\n",
    "    3. Matplotliob"
   ]
  },
  {
   "cell_type": "markdown",
   "id": "c13c1a3e-5e3f-457d-be4a-13d317948998",
   "metadata": {},
   "source": [
    "## Data Science Tools\n",
    "\n",
    "| Data Science Tools | \n",
    "| -------------| \n",
    "| Jupyter Notebook | \n",
    "| RStudio | \n",
    "| Spyder | "
   ]
  },
  {
   "cell_type": "markdown",
   "id": "bdc0c4bd-dc8c-4713-aee9-e580985a906c",
   "metadata": {},
   "source": [
    "### Below are a few examples of evaluating arithmetic expressions in Python"
   ]
  },
  {
   "cell_type": "code",
   "execution_count": 5,
   "id": "ca40390c-c25e-493a-9e24-10ea42177092",
   "metadata": {},
   "outputs": [
    {
     "data": {
      "text/plain": [
       "17"
      ]
     },
     "execution_count": 5,
     "metadata": {},
     "output_type": "execute_result"
    }
   ],
   "source": [
    "# This a simple arithmetic expression to mutiply then add integers\n",
    "(3*4)+5"
   ]
  },
  {
   "cell_type": "code",
   "execution_count": 7,
   "id": "1dfb16ac-573f-4d82-bc9f-50db1614200f",
   "metadata": {},
   "outputs": [
    {
     "data": {
      "text/plain": [
       "3.33"
      ]
     },
     "execution_count": 7,
     "metadata": {},
     "output_type": "execute_result"
    }
   ],
   "source": [
    "# This will convert 200 minutes to hours by diving by 60\n",
    "round((200*1)/60,2)\n"
   ]
  },
  {
   "cell_type": "markdown",
   "id": "7f1459e3-283f-4d3b-9497-3f7a4e070082",
   "metadata": {},
   "source": [
    "## Author\n",
    "Daniel Chacón Malaver"
   ]
  },
  {
   "cell_type": "code",
   "execution_count": null,
   "id": "81a0d526-de82-4cdd-ae01-a9e6d966a751",
   "metadata": {},
   "outputs": [],
   "source": []
  }
 ],
 "metadata": {
  "kernelspec": {
   "display_name": "Python 3 (ipykernel)",
   "language": "python",
   "name": "python3"
  },
  "language_info": {
   "codemirror_mode": {
    "name": "ipython",
    "version": 3
   },
   "file_extension": ".py",
   "mimetype": "text/x-python",
   "name": "python",
   "nbconvert_exporter": "python",
   "pygments_lexer": "ipython3",
   "version": "3.13.5"
  }
 },
 "nbformat": 4,
 "nbformat_minor": 5
}
